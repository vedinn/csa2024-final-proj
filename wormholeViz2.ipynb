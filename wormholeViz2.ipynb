{
 "cells": [
  {
   "cell_type": "markdown",
   "id": "c405a933-c76b-4ee6-8b0d-8e25e9218b62",
   "metadata": {},
   "source": [
    "### Made into one function, added interactable sliders\n",
    "Revised from https://github.com/Fable67/Wormhole-Visualization"
   ]
  },
  {
   "cell_type": "code",
   "execution_count": 45,
   "id": "ec3290d9-e4d1-41ee-b147-0cedbe2d524a",
   "metadata": {},
   "outputs": [],
   "source": [
    "import numpy as np\n",
    "from mpl_toolkits.mplot3d import Axes3D\n",
    "import matplotlib.pyplot as plt\n",
    "import ipywidgets\n",
    "%matplotlib ipympl\n",
    "\n",
    "\n",
    "def simulate(r, outer_r, res, length):\n",
    "    def topdown(r, outer_r, res, length):\n",
    "        spaces = np.linspace(0, 2*np.pi, res)\n",
    "        y = r * np.sin(spaces)\n",
    "        x = r * np.cos(spaces)\n",
    "        \n",
    "        directions = np.array([x,y]).T\n",
    "        points = []\n",
    "        virt_coords = []\n",
    "        max_k = outer_r / r\n",
    "        ks = np.linspace(1, max_k, res)\n",
    "        for direction in directions:\n",
    "            for k in ks:\n",
    "                point = direction * k\n",
    "                points.append(point.tolist())\n",
    "                # virt_coords.append(np.sqrt(np.square(direction * (k-1)).sum()).tolist())\n",
    "                virt_coords.append((k-1))\n",
    "    \n",
    "        points_x, points_y = list(zip(*points))\n",
    "        return points_x, points_y, virt_coords\n",
    "    \n",
    "    x, y, virt_coords = topdown(r, outer_r, res, length)\n",
    "    # plt.figure()\n",
    "    # plt.scatter(x, y, s=2)\n",
    "    # plt.show()\n",
    "\n",
    "\n",
    "    def pos_height(length):\n",
    "        return (length*np.sqrt(virt_coords)).tolist()\n",
    "    def neg_height(length):\n",
    "        return (-length*np.sqrt(virt_coords)).tolist()\n",
    "\n",
    "\n",
    "    pos_height_points = pos_height(length)\n",
    "    neg_height_points = neg_height(length)\n",
    "\n",
    "\n",
    "    # plt.scatter(virt_coords * 2, pos_height_points + neg_height_points)\n",
    "    # plt.show()\n",
    "\n",
    "\n",
    "\n",
    "    fig = plt.figure()\n",
    "    ax = fig.add_subplot(111, projection=\"3d\")\n",
    "\n",
    "    ax.scatter(x * 2, y * 2, pos_height_points + neg_height_points)\n",
    "    plt.show()"
   ]
  },
  {
   "cell_type": "code",
   "execution_count": 46,
   "id": "e2b223f7-c860-453c-a68a-c0094f22a805",
   "metadata": {},
   "outputs": [],
   "source": [
    "from ipywidgets import interact, interactive, fixed, interact_manual\n",
    "import ipywidgets as widgets"
   ]
  },
  {
   "cell_type": "code",
   "execution_count": 47,
   "id": "f78aea67-32b3-4b47-ab72-89b0a6ed98b6",
   "metadata": {},
   "outputs": [
    {
     "data": {
      "application/vnd.jupyter.widget-view+json": {
       "model_id": "074736749c204934a447082263b4c09a",
       "version_major": 2,
       "version_minor": 0
      },
      "text/plain": [
       "interactive(children=(IntSlider(value=5, description='r', max=15, min=-5), IntSlider(value=30, description='ou…"
      ]
     },
     "metadata": {},
     "output_type": "display_data"
    },
    {
     "data": {
      "text/plain": [
       "<function __main__.simulate(r, outer_r, res, length)>"
      ]
     },
     "execution_count": 47,
     "metadata": {},
     "output_type": "execute_result"
    }
   ],
   "source": [
    "interact(\n",
    "    simulate,\n",
    "    r = 5, \n",
    "    outer_r = 30, \n",
    "    res = widgets.IntSlider(min = 5, max = 30, step = 1, value = 10),\n",
    "    length = widgets.IntSlider(min=1, max = 10, step = 1, value = 1)\n",
    ")"
   ]
  },
  {
   "cell_type": "code",
   "execution_count": null,
   "id": "238ee909-1098-4044-bc04-76dbfa2eabc9",
   "metadata": {},
   "outputs": [],
   "source": []
  }
 ],
 "metadata": {
  "kernelspec": {
   "display_name": "Python 3 (ipykernel)",
   "language": "python",
   "name": "python3"
  },
  "language_info": {
   "codemirror_mode": {
    "name": "ipython",
    "version": 3
   },
   "file_extension": ".py",
   "mimetype": "text/x-python",
   "name": "python",
   "nbconvert_exporter": "python",
   "pygments_lexer": "ipython3",
   "version": "3.12.3"
  }
 },
 "nbformat": 4,
 "nbformat_minor": 5
}
